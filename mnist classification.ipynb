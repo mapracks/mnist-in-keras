{
 "cells": [
  {
   "cell_type": "code",
   "execution_count": 2,
   "metadata": {},
   "outputs": [
    {
     "name": "stderr",
     "output_type": "stream",
     "text": [
      "Using TensorFlow backend.\n"
     ]
    }
   ],
   "source": [
    "import keras\n"
   ]
  },
  {
   "cell_type": "code",
   "execution_count": 3,
   "metadata": {},
   "outputs": [],
   "source": [
    "from keras.datasets import mnist\n",
    "(X_train, y_train), (X_test, y_test) = mnist.load_data() \n"
   ]
  },
  {
   "cell_type": "code",
   "execution_count": 4,
   "metadata": {},
   "outputs": [],
   "source": [
    "\n",
    "import matplotlib.pyplot as plt\n"
   ]
  },
  {
   "cell_type": "code",
   "execution_count": 5,
   "metadata": {},
   "outputs": [
    {
     "data": {
      "image/png": "[encoded data removed]",
      "text/plain": [
       "<Figure size 432x288 with 9 Axes>"
      ]
     },
     "metadata": {},
     "output_type": "display_data"
    }
   ],
   "source": [
    "fig = plt.figure()\n",
    "for i in range(9):\n",
    "    plt.subplot(3,3,i+1)\n",
    "    plt.tight_layout()\n",
    "    plt.imshow(X_train[i] , cmap='gray' ,interpolation=None)\n",
    "    plt.title(\"Digits :{}\".format( y_train[i]))\n",
    "    plt.xticks([])\n",
    "    plt.yticks([])\n",
    "    "
   ]
  },
  {
   "cell_type": "code",
   "execution_count": 6,
   "metadata": {},
   "outputs": [
    {
     "name": "stdout",
     "output_type": "stream",
     "text": [
      "X_train shape: (60000, 28, 28, 1)\n"
     ]
    }
   ],
   "source": [
    "img_rows = 28\n",
    "img_cols = 28\n",
    "if keras.backend.image_data_format() == 'channels_first':\n",
    "    X_train = X_train.reshape(X_train.shape[0] , 1 , img_rows , img_cols)\n",
    "    X_test = X_test.reshape(X_test.shape[0] , 1 , img_rows ,img_cols)\n",
    "    input_shape = (1 , img_rows , img_cols)\n",
    "else :\n",
    "    X_train = X_train.reshape(X_train.shape[0] , img_rows , img_cols ,1)\n",
    "    X_test = X_test.reshape(X_test.shape[0] , img_rows ,img_cols, 1)\n",
    "    input_shape  =(img_rows ,img_cols ,1)\n",
    "X_train = X_train.astype('float32')\n",
    "X_test = X_test.astype('float32')\n",
    "X_train /= 255\n",
    "X_test /= 255\n",
    "print('X_train shape:', X_train.shape )\n",
    "    "
   ]
  },
  {
   "cell_type": "code",
   "execution_count": 7,
   "metadata": {},
   "outputs": [],
   "source": [
    "num_category = 10\n",
    "y_test = keras.utils.to_categorical(y_test , num_category)\n",
    "y_train = keras.utils.to_categorical(y_train , num_category)\n"
   ]
  },
  {
   "cell_type": "code",
   "execution_count": 8,
   "metadata": {},
   "outputs": [],
   "source": [
    "from keras.layers.core import Dense , Activation, Dropout ,Flatten\n",
    "from keras.layers.convolutional import Conv2D ,MaxPooling2D\n",
    "from keras.models import Sequential\n",
    "\n",
    "\n"
   ]
  },
  {
   "cell_type": "code",
   "execution_count": 9,
   "metadata": {},
   "outputs": [],
   "source": [
    "model = Sequential()"
   ]
  },
  {
   "cell_type": "code",
   "execution_count": 10,
   "metadata": {},
   "outputs": [],
   "source": [
    "model.add(Conv2D(32 ,(3 ,3) , activation='relu' ,input_shape = (28,28,1)))\n",
    "model.add(Conv2D(64 ,(3 ,3) , activation='relu' ))\n",
    "model.add(MaxPooling2D(pool_size=(2,2)))\n",
    "model.add(Dropout(0.25))\n",
    "model.add(Flatten())\n",
    "model.add(Dense(128 , activation= 'relu' ))\n",
    "model.add(Dropout(0.5))\n",
    "model.add(Dense(num_category ,activation='softmax'))\n"
   ]
  },
  {
   "cell_type": "code",
   "execution_count": 11,
   "metadata": {},
   "outputs": [],
   "source": [
    "model.compile(loss= keras.losses.categorical_crossentropy ,\n",
    "              optimizer= keras.optimizers.Adadelta() , metrics=['accuracy'])\n",
    "\n"
   ]
  },
  {
   "cell_type": "code",
   "execution_count": 14,
   "metadata": {},
   "outputs": [
    {
     "name": "stdout",
     "output_type": "stream",
     "text": [
      "Epoch 1/5\n",
      "60000/60000 [==============================] - 241s 4ms/step - loss: 0.1723 - acc: 0.9489\n",
      "Epoch 2/5\n",
      "60000/60000 [==============================] - 226s 4ms/step - loss: 0.0845 - acc: 0.9751\n",
      "Epoch 3/5\n",
      "60000/60000 [==============================] - 227s 4ms/step - loss: 0.0635 - acc: 0.9807\n",
      "Epoch 4/5\n",
      "60000/60000 [==============================] - 226s 4ms/step - loss: 0.0536 - acc: 0.9834\n",
      "Epoch 5/5\n",
      "60000/60000 [==============================] - 222s 4ms/step - loss: 0.0468 - acc: 0.9856\n",
      "10000/10000 [==============================] - 12s 1ms/step\n"
     ]
    }
   ],
   "source": [
    "batch_size = 128\n",
    "num_epoch = 10\n",
    "#model training\n",
    "history = model.fit(X_train , y_train , batch_size= 128 , epochs= 5 ,verbose= 1)\n",
    "test_loss ,test_acc = model.evaluate(X_test , y_test)"
   ]
  },
  {
   "cell_type": "code",
   "execution_count": 16,
   "metadata": {},
   "outputs": [
    {
     "name": "stdout",
     "output_type": "stream",
     "text": [
      "Saved model to disk\n"
     ]
    }
   ],
   "source": [
    "model_to_json = model.to_json()\n",
    "with open(\"model.json\" , \"w\") as json_file:\n",
    "    json_file.write(model_to_json)\n",
    "model.save_weights(\"model_digits.h5\")\n",
    "print(\"Saved model to disk\")"
   ]
  },
  {
   "cell_type": "code",
   "execution_count": null,
   "metadata": {},
   "outputs": [],
   "source": []
  },
  {
   "cell_type": "code",
   "execution_count": null,
   "metadata": {},
   "outputs": [],
   "source": []
  },
  {
   "cell_type": "code",
   "execution_count": null,
   "metadata": {},
   "outputs": [],
   "source": []
  },
  {
   "cell_type": "code",
   "execution_count": null,
   "metadata": {},
   "outputs": [],
   "source": []
  },
  {
   "cell_type": "code",
   "execution_count": null,
   "metadata": {},
   "outputs": [],
   "source": []
  }
 ],
 "metadata": {
  "kernelspec": {
   "display_name": "Python 3",
   "language": "python",
   "name": "python3"
  },
  "language_info": {
   "codemirror_mode": {
    "name": "ipython",
    "version": 3
   },
   "file_extension": ".py",
   "mimetype": "text/x-python",
   "name": "python",
   "nbconvert_exporter": "python",
   "pygments_lexer": "ipython3",
   "version": "3.6.2"
  }
 },
 "nbformat": 4,
 "nbformat_minor": 2
}
